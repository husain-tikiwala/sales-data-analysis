{
 "cells": [
  {
   "cell_type": "code",
   "execution_count": 1,
   "id": "5b164aac",
   "metadata": {},
   "outputs": [],
   "source": [
    "a=[85,90,88]\n",
    "b=[78,75,80]\n",
    "c=[92,94,90]\n",
    "\n",
    "def mean(m):\n",
    "    one=0\n",
    "    t=0\n",
    "    for i in m:\n",
    "        one+=i\n",
    "    t=one/len(m)\n",
    "    return(t)\n",
    "\n",
    "x=mean(a)\n",
    "y=mean(b)\n",
    "z=mean(c)\n",
    "    \n",
    "\n"
   ]
  },
  {
   "cell_type": "code",
   "execution_count": 2,
   "id": "1e8d4ada",
   "metadata": {},
   "outputs": [],
   "source": [
    "class anouva:\n",
    "    def __init__(self,a,b,c):\n",
    "        self.a=a\n",
    "        self.b=b\n",
    "        self.c=c\n",
    "    def result(self):\n",
    "        self.wtg()\n",
    "        self.atg()\n",
    "        return \"f_value=\",self.final(),self.atg(),self.wtg()\n",
    "    def wtg(self):\n",
    "        self.g=(mean(self.a)+mean(self.b)+mean(self.c))/3\n",
    "        self.m1=(len(self.a)*(mean(self.a)-self.g)**2+len(self.b)*(mean(self.b)-self.g)**2+len(self.c)*(mean(self.c)-self.g)**2)\n",
    "        return self.m1\n",
    "    def atg(self):\n",
    "        first=sum((i-mean(self.a))**2 for i in self.a)\n",
    "        second=sum((i-mean(self.b))**2 for i in self.b)\n",
    "        third=sum((i-mean(self.c))**2 for i in self.c)\n",
    "        self.m2=first+second+third\n",
    "        return self.m2\n",
    "    def final(self):\n",
    "        k=3\n",
    "        n=len(self.a)+len(self.b)+len(self.c)\n",
    "        v1=self.m1/(k-1)\n",
    "        v2=self.m2/(n-k)\n",
    "        f=v1/v2\n",
    "        return f\n",
    "\n",
    "        \n",
    "\n",
    "\n",
    "\n",
    "    "
   ]
  },
  {
   "cell_type": "code",
   "execution_count": 3,
   "id": "1871ae03",
   "metadata": {},
   "outputs": [],
   "source": [
    "test=anouva(a,b,c)"
   ]
  },
  {
   "cell_type": "code",
   "execution_count": 4,
   "id": "9ad3491a",
   "metadata": {},
   "outputs": [
    {
     "data": {
      "text/plain": [
       "('f_value=', 29.179999999999986, 33.33333333333333, 324.222222222222)"
      ]
     },
     "execution_count": 4,
     "metadata": {},
     "output_type": "execute_result"
    }
   ],
   "source": [
    "test.result()"
   ]
  },
  {
   "cell_type": "code",
   "execution_count": 5,
   "id": "eaeb5b22",
   "metadata": {},
   "outputs": [
    {
     "data": {
      "text/plain": [
       "85.77777777777779"
      ]
     },
     "execution_count": 5,
     "metadata": {},
     "output_type": "execute_result"
    }
   ],
   "source": [
    "(x+y+z)/3"
   ]
  },
  {
   "cell_type": "code",
   "execution_count": 1,
   "id": "74ca87fe",
   "metadata": {},
   "outputs": [
    {
     "name": "stdout",
     "output_type": "stream",
     "text": [
      "1 5\n"
     ]
    }
   ],
   "source": [
    "class Test: \n",
    "    def __init__(self, x=1): \n",
    "        self.x = x \n",
    " \n",
    "    def __str__(self): \n",
    "        return str(self.x) \n",
    " \n",
    "t1 = Test() \n",
    "t2 = Test(5) \n",
    "print(t1, t2)"
   ]
  },
  {
   "cell_type": "code",
   "execution_count": null,
   "id": "0dea6835",
   "metadata": {},
   "outputs": [
    {
     "name": "stdout",
     "output_type": "stream",
     "text": [
      "<__main__.Demo object at 0x00000281BEBA4830>\n"
     ]
    }
   ],
   "source": [
    "class Demo: \n",
    "    def __init__(self, x): \n",
    "        self.x = x \n",
    " \n",
    "    def __add__(self, other): \n",
    "        return self.x + other.x \n",
    " \n",
    "d1 = Demo(5) \n",
    "print(d1+d2)"
   ]
  },
  {
   "cell_type": "code",
   "execution_count": null,
   "id": "45b4a180",
   "metadata": {},
   "outputs": [],
   "source": []
  }
 ],
 "metadata": {
  "kernelspec": {
   "display_name": "Python 3",
   "language": "python",
   "name": "python3"
  },
  "language_info": {
   "codemirror_mode": {
    "name": "ipython",
    "version": 3
   },
   "file_extension": ".py",
   "mimetype": "text/x-python",
   "name": "python",
   "nbconvert_exporter": "python",
   "pygments_lexer": "ipython3",
   "version": "3.13.1"
  }
 },
 "nbformat": 4,
 "nbformat_minor": 5
}

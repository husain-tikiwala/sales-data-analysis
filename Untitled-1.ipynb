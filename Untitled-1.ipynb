{
 "cells": [
  {
   "cell_type": "code",
   "execution_count": 1,
   "id": "0587abed",
   "metadata": {},
   "outputs": [],
   "source": [
    "import pandas as pd\n",
    "import numpy as np\n",
    "import matplotlib.pyplot as plt\n",
    "import seaborn as sns\n",
    "from scipy import stats"
   ]
  },
  {
   "cell_type": "code",
   "execution_count": 2,
   "id": "2f170360",
   "metadata": {},
   "outputs": [],
   "source": [
    "nasa=pd.read_csv(\"meteorite-landings.csv\")"
   ]
  },
  {
   "cell_type": "code",
   "execution_count": 3,
   "id": "9139cdf9",
   "metadata": {},
   "outputs": [
    {
     "name": "stdout",
     "output_type": "stream",
     "text": [
      "<class 'pandas.core.frame.DataFrame'>\n",
      "RangeIndex: 45716 entries, 0 to 45715\n",
      "Data columns (total 10 columns):\n",
      " #   Column       Non-Null Count  Dtype  \n",
      "---  ------       --------------  -----  \n",
      " 0   name         45716 non-null  object \n",
      " 1   id           45716 non-null  int64  \n",
      " 2   nametype     45716 non-null  object \n",
      " 3   recclass     45716 non-null  object \n",
      " 4   mass         45585 non-null  float64\n",
      " 5   fall         45716 non-null  object \n",
      " 6   year         45428 non-null  float64\n",
      " 7   reclat       38401 non-null  float64\n",
      " 8   reclong      38401 non-null  float64\n",
      " 9   GeoLocation  38401 non-null  object \n",
      "dtypes: float64(4), int64(1), object(5)\n",
      "memory usage: 3.5+ MB\n"
     ]
    }
   ],
   "source": [
    "nasa.info()"
   ]
  },
  {
   "cell_type": "code",
   "execution_count": 4,
   "id": "0ef38674",
   "metadata": {},
   "outputs": [],
   "source": [
    "nasa.dropna(inplace=True)"
   ]
  },
  {
   "cell_type": "code",
   "execution_count": 5,
   "id": "7f20a4b0",
   "metadata": {},
   "outputs": [
    {
     "data": {
      "text/html": [
       "<div>\n",
       "<style scoped>\n",
       "    .dataframe tbody tr th:only-of-type {\n",
       "        vertical-align: middle;\n",
       "    }\n",
       "\n",
       "    .dataframe tbody tr th {\n",
       "        vertical-align: top;\n",
       "    }\n",
       "\n",
       "    .dataframe thead th {\n",
       "        text-align: right;\n",
       "    }\n",
       "</style>\n",
       "<table border=\"1\" class=\"dataframe\">\n",
       "  <thead>\n",
       "    <tr style=\"text-align: right;\">\n",
       "      <th></th>\n",
       "      <th>id</th>\n",
       "      <th>mass</th>\n",
       "      <th>year</th>\n",
       "      <th>reclat</th>\n",
       "      <th>reclong</th>\n",
       "    </tr>\n",
       "  </thead>\n",
       "  <tbody>\n",
       "    <tr>\n",
       "      <th>count</th>\n",
       "      <td>5.000000</td>\n",
       "      <td>5.000000</td>\n",
       "      <td>5.000000</td>\n",
       "      <td>5.000000</td>\n",
       "      <td>5.000000</td>\n",
       "    </tr>\n",
       "    <tr>\n",
       "      <th>mean</th>\n",
       "      <td>77.800000</td>\n",
       "      <td>22087.000000</td>\n",
       "      <td>1932.200000</td>\n",
       "      <td>28.978332</td>\n",
       "      <td>-52.306668</td>\n",
       "    </tr>\n",
       "    <tr>\n",
       "      <th>std</th>\n",
       "      <td>163.383598</td>\n",
       "      <td>47472.657372</td>\n",
       "      <td>39.688789</td>\n",
       "      <td>38.276856</td>\n",
       "      <td>57.942434</td>\n",
       "    </tr>\n",
       "    <tr>\n",
       "      <th>min</th>\n",
       "      <td>1.000000</td>\n",
       "      <td>21.000000</td>\n",
       "      <td>1880.000000</td>\n",
       "      <td>-33.166670</td>\n",
       "      <td>-113.000000</td>\n",
       "    </tr>\n",
       "    <tr>\n",
       "      <th>25%</th>\n",
       "      <td>2.000000</td>\n",
       "      <td>720.000000</td>\n",
       "      <td>1902.000000</td>\n",
       "      <td>16.883330</td>\n",
       "      <td>-99.900000</td>\n",
       "    </tr>\n",
       "    <tr>\n",
       "      <th>50%</th>\n",
       "      <td>6.000000</td>\n",
       "      <td>780.000000</td>\n",
       "      <td>1951.000000</td>\n",
       "      <td>50.775000</td>\n",
       "      <td>-64.950000</td>\n",
       "    </tr>\n",
       "    <tr>\n",
       "      <th>75%</th>\n",
       "      <td>10.000000</td>\n",
       "      <td>1914.000000</td>\n",
       "      <td>1952.000000</td>\n",
       "      <td>54.216670</td>\n",
       "      <td>6.083330</td>\n",
       "    </tr>\n",
       "    <tr>\n",
       "      <th>max</th>\n",
       "      <td>370.000000</td>\n",
       "      <td>107000.000000</td>\n",
       "      <td>1976.000000</td>\n",
       "      <td>56.183330</td>\n",
       "      <td>10.233330</td>\n",
       "    </tr>\n",
       "  </tbody>\n",
       "</table>\n",
       "</div>"
      ],
      "text/plain": [
       "               id           mass         year     reclat     reclong\n",
       "count    5.000000       5.000000     5.000000   5.000000    5.000000\n",
       "mean    77.800000   22087.000000  1932.200000  28.978332  -52.306668\n",
       "std    163.383598   47472.657372    39.688789  38.276856   57.942434\n",
       "min      1.000000      21.000000  1880.000000 -33.166670 -113.000000\n",
       "25%      2.000000     720.000000  1902.000000  16.883330  -99.900000\n",
       "50%      6.000000     780.000000  1951.000000  50.775000  -64.950000\n",
       "75%     10.000000    1914.000000  1952.000000  54.216670    6.083330\n",
       "max    370.000000  107000.000000  1976.000000  56.183330   10.233330"
      ]
     },
     "execution_count": 5,
     "metadata": {},
     "output_type": "execute_result"
    }
   ],
   "source": [
    "nasa.head().describe()"
   ]
  },
  {
   "cell_type": "code",
   "execution_count": 6,
   "id": "0f4ecbbf",
   "metadata": {},
   "outputs": [
    {
     "data": {
      "text/plain": [
       "np.float64(60000.0)"
      ]
     },
     "execution_count": 6,
     "metadata": {},
     "output_type": "execute_result"
    }
   ],
   "source": [
    "nasa[\"mass\"]=nasa[\"mass\"]/1000\n",
    "nasa[\"mass\"].max()"
   ]
  },
  {
   "cell_type": "code",
   "execution_count": 7,
   "id": "af2e7a33",
   "metadata": {},
   "outputs": [],
   "source": [
    "nasa[\"year\"]=nasa[\"year\"].astype(int)"
   ]
  },
  {
   "cell_type": "code",
   "execution_count": 8,
   "id": "0f2b8919",
   "metadata": {},
   "outputs": [
    {
     "data": {
      "text/html": [
       "<div>\n",
       "<style scoped>\n",
       "    .dataframe tbody tr th:only-of-type {\n",
       "        vertical-align: middle;\n",
       "    }\n",
       "\n",
       "    .dataframe tbody tr th {\n",
       "        vertical-align: top;\n",
       "    }\n",
       "\n",
       "    .dataframe thead th {\n",
       "        text-align: right;\n",
       "    }\n",
       "</style>\n",
       "<table border=\"1\" class=\"dataframe\">\n",
       "  <thead>\n",
       "    <tr style=\"text-align: right;\">\n",
       "      <th></th>\n",
       "      <th>name</th>\n",
       "      <th>id</th>\n",
       "      <th>nametype</th>\n",
       "      <th>recclass</th>\n",
       "      <th>mass</th>\n",
       "      <th>fall</th>\n",
       "      <th>year</th>\n",
       "      <th>reclat</th>\n",
       "      <th>reclong</th>\n",
       "      <th>GeoLocation</th>\n",
       "    </tr>\n",
       "  </thead>\n",
       "  <tbody>\n",
       "    <tr>\n",
       "      <th>0</th>\n",
       "      <td>Aachen</td>\n",
       "      <td>1</td>\n",
       "      <td>Valid</td>\n",
       "      <td>L5</td>\n",
       "      <td>0.021</td>\n",
       "      <td>Fell</td>\n",
       "      <td>1880</td>\n",
       "      <td>50.77500</td>\n",
       "      <td>6.08333</td>\n",
       "      <td>(50.775000, 6.083330)</td>\n",
       "    </tr>\n",
       "    <tr>\n",
       "      <th>1</th>\n",
       "      <td>Aarhus</td>\n",
       "      <td>2</td>\n",
       "      <td>Valid</td>\n",
       "      <td>H6</td>\n",
       "      <td>0.720</td>\n",
       "      <td>Fell</td>\n",
       "      <td>1951</td>\n",
       "      <td>56.18333</td>\n",
       "      <td>10.23333</td>\n",
       "      <td>(56.183330, 10.233330)</td>\n",
       "    </tr>\n",
       "    <tr>\n",
       "      <th>2</th>\n",
       "      <td>Abee</td>\n",
       "      <td>6</td>\n",
       "      <td>Valid</td>\n",
       "      <td>EH4</td>\n",
       "      <td>107.000</td>\n",
       "      <td>Fell</td>\n",
       "      <td>1952</td>\n",
       "      <td>54.21667</td>\n",
       "      <td>-113.00000</td>\n",
       "      <td>(54.216670, -113.000000)</td>\n",
       "    </tr>\n",
       "    <tr>\n",
       "      <th>3</th>\n",
       "      <td>Acapulco</td>\n",
       "      <td>10</td>\n",
       "      <td>Valid</td>\n",
       "      <td>Acapulcoite</td>\n",
       "      <td>1.914</td>\n",
       "      <td>Fell</td>\n",
       "      <td>1976</td>\n",
       "      <td>16.88333</td>\n",
       "      <td>-99.90000</td>\n",
       "      <td>(16.883330, -99.900000)</td>\n",
       "    </tr>\n",
       "    <tr>\n",
       "      <th>4</th>\n",
       "      <td>Achiras</td>\n",
       "      <td>370</td>\n",
       "      <td>Valid</td>\n",
       "      <td>L6</td>\n",
       "      <td>0.780</td>\n",
       "      <td>Fell</td>\n",
       "      <td>1902</td>\n",
       "      <td>-33.16667</td>\n",
       "      <td>-64.95000</td>\n",
       "      <td>(-33.166670, -64.950000)</td>\n",
       "    </tr>\n",
       "  </tbody>\n",
       "</table>\n",
       "</div>"
      ],
      "text/plain": [
       "       name   id nametype     recclass     mass  fall  year    reclat  \\\n",
       "0    Aachen    1    Valid           L5    0.021  Fell  1880  50.77500   \n",
       "1    Aarhus    2    Valid           H6    0.720  Fell  1951  56.18333   \n",
       "2      Abee    6    Valid          EH4  107.000  Fell  1952  54.21667   \n",
       "3  Acapulco   10    Valid  Acapulcoite    1.914  Fell  1976  16.88333   \n",
       "4   Achiras  370    Valid           L6    0.780  Fell  1902 -33.16667   \n",
       "\n",
       "     reclong               GeoLocation  \n",
       "0    6.08333     (50.775000, 6.083330)  \n",
       "1   10.23333    (56.183330, 10.233330)  \n",
       "2 -113.00000  (54.216670, -113.000000)  \n",
       "3  -99.90000   (16.883330, -99.900000)  \n",
       "4  -64.95000  (-33.166670, -64.950000)  "
      ]
     },
     "execution_count": 8,
     "metadata": {},
     "output_type": "execute_result"
    }
   ],
   "source": [
    "nasa.head()"
   ]
  },
  {
   "cell_type": "code",
   "execution_count": 9,
   "id": "1baf884b",
   "metadata": {},
   "outputs": [
    {
     "data": {
      "image/png": "[encoded data removed]",
      "text/plain": [
       "<Figure size 640x480 with 1 Axes>"
      ]
     },
     "metadata": {},
     "output_type": "display_data"
    }
   ],
   "source": [
    "a=nasa[\"recclass\"].value_counts().reset_index().head(10)#Top 10 highest amount of metroits by class\n",
    "barlabel=plt.bar(a[\"recclass\"],a[\"count\"],color=\"red\")\n",
    "plt.bar_label(barlabel)\n",
    "plt.show()"
   ]
  },
  {
   "cell_type": "code",
   "execution_count": 10,
   "id": "65fdc56c",
   "metadata": {},
   "outputs": [
    {
     "data": {
      "text/plain": [
       "array(['Fell', 'Found'], dtype=object)"
      ]
     },
     "execution_count": 10,
     "metadata": {},
     "output_type": "execute_result"
    }
   ],
   "source": [
    "nasa[\"fall\"].unique()"
   ]
  },
  {
   "cell_type": "code",
   "execution_count": 11,
   "id": "032b4947",
   "metadata": {},
   "outputs": [
    {
     "data": {
      "image/png": "[encoded data removed]",
      "text/plain": [
       "<Figure size 640x480 with 1 Axes>"
      ]
     },
     "metadata": {},
     "output_type": "display_data"
    }
   ],
   "source": [
    "new=nasa[\"fall\"].value_counts().reset_index()\n",
    "plt.pie(new[\"count\"],autopct=\"%1.1f%%\",explode=(0.0,0.1),labels=new[\"fall\"])\n",
    "plt.show()"
   ]
  },
  {
   "cell_type": "code",
   "execution_count": 13,
   "id": "9057e3bd",
   "metadata": {},
   "outputs": [
    {
     "data": {
      "text/plain": [
       "<Axes: xlabel='year', ylabel='count'>"
      ]
     },
     "execution_count": 13,
     "metadata": {},
     "output_type": "execute_result"
    },
    {
     "data": {
      "image/png": "[encoded data removed]",
      "text/plain": [
       "<Figure size 640x480 with 1 Axes>"
      ]
     },
     "metadata": {},
     "output_type": "display_data"
    }
   ],
   "source": [
    "a=nasa[\"year\"].value_counts().reset_index()\n",
    "a\n",
    "sns.scatterplot(x=\"year\",y=\"count\",data=a)"
   ]
  },
  {
   "cell_type": "code",
   "execution_count": 14,
   "id": "2c18940f",
   "metadata": {},
   "outputs": [
    {
     "data": {
      "text/plain": [
       "(38116, 10)"
      ]
     },
     "execution_count": 14,
     "metadata": {},
     "output_type": "execute_result"
    }
   ],
   "source": [
    "nasa.shape"
   ]
  },
  {
   "cell_type": "code",
   "execution_count": 15,
   "id": "becc6dd1",
   "metadata": {},
   "outputs": [
    {
     "name": "stdout",
     "output_type": "stream",
     "text": [
      "<class 'pandas.core.frame.DataFrame'>\n",
      "Index: 38116 entries, 0 to 45715\n",
      "Data columns (total 10 columns):\n",
      " #   Column       Non-Null Count  Dtype  \n",
      "---  ------       --------------  -----  \n",
      " 0   name         38116 non-null  object \n",
      " 1   id           38116 non-null  int64  \n",
      " 2   nametype     38116 non-null  object \n",
      " 3   recclass     38116 non-null  object \n",
      " 4   mass         38116 non-null  float64\n",
      " 5   fall         38116 non-null  object \n",
      " 6   year         38116 non-null  int64  \n",
      " 7   reclat       38116 non-null  float64\n",
      " 8   reclong      38116 non-null  float64\n",
      " 9   GeoLocation  38116 non-null  object \n",
      "dtypes: float64(3), int64(2), object(5)\n",
      "memory usage: 3.2+ MB\n"
     ]
    }
   ],
   "source": [
    "nasa.info()"
   ]
  },
  {
   "cell_type": "code",
   "execution_count": 16,
   "id": "10d688f8",
   "metadata": {},
   "outputs": [],
   "source": [
    "nasa[\"year\"]=nasa[\"year\"].astype(int)"
   ]
  },
  {
   "cell_type": "code",
   "execution_count": 17,
   "id": "0664775a",
   "metadata": {},
   "outputs": [
    {
     "data": {
      "image/png": "[encoded data removed]",
      "text/plain": [
       "<Figure size 640x480 with 2 Axes>"
      ]
     },
     "metadata": {},
     "output_type": "display_data"
    }
   ],
   "source": [
    "corr=nasa.corr(numeric_only=True)\n",
    "sns.heatmap(corr)\n",
    "plt.show()"
   ]
  },
  {
   "cell_type": "code",
   "execution_count": null,
   "id": "292ffa3f",
   "metadata": {},
   "outputs": [],
   "source": []
  },
  {
   "cell_type": "code",
   "execution_count": null,
   "id": "dfccaf7d",
   "metadata": {},
   "outputs": [],
   "source": []
  }
 ],
 "metadata": {
  "kernelspec": {
   "display_name": "Python 3",
   "language": "python",
   "name": "python3"
  },
  "language_info": {
   "codemirror_mode": {
    "name": "ipython",
    "version": 3
   },
   "file_extension": ".py",
   "mimetype": "text/x-python",
   "name": "python",
   "nbconvert_exporter": "python",
   "pygments_lexer": "ipython3",
   "version": "3.13.1"
  }
 },
 "nbformat": 4,
 "nbformat_minor": 5
}
